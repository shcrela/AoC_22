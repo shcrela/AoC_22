{
 "cells": [
  {
   "cell_type": "code",
   "execution_count": 4,
   "id": "7c7c1b09-b2c1-44ea-aea9-9c578975f946",
   "metadata": {},
   "outputs": [],
   "source": [
    "# load the data as `data` variable\n",
    "%run helper.py {4}\n",
    "\n",
    "pairs = [l.split(\",\") for l in lines]\n",
    "\n",
    "def create_range(span):\n",
    "    a, b = [int(s) for s in span.split(\"-\")]\n",
    "    return np.arange(a, b+1)"
   ]
  },
  {
   "cell_type": "markdown",
   "id": "941e8c92-1a5d-4d2c-a585-850f8c74dd65",
   "metadata": {},
   "source": [
    "### Part 1"
   ]
  },
  {
   "cell_type": "code",
   "execution_count": 5,
   "id": "67da56ff-fa01-471f-99bc-e1c72aefec85",
   "metadata": {},
   "outputs": [],
   "source": [
    "counter = 0\n",
    "for pair in pairs:\n",
    "    range1, range2 = [create_range(p) for p in pair]\n",
    "    if set(range1).issubset(set(range2)) or set(range2).issubset(set(range1)):\n",
    "        counter += 1\n"
   ]
  },
  {
   "cell_type": "code",
   "execution_count": 6,
   "id": "5bd96113-5a17-467e-8560-156f1fc79d0c",
   "metadata": {},
   "outputs": [
    {
     "data": {
      "text/plain": [
       "507"
      ]
     },
     "execution_count": 6,
     "metadata": {},
     "output_type": "execute_result"
    }
   ],
   "source": [
    "counter"
   ]
  },
  {
   "cell_type": "markdown",
   "id": "f9a70797-6279-473d-a86f-05d111260d21",
   "metadata": {},
   "source": [
    "### Part 2"
   ]
  },
  {
   "cell_type": "code",
   "execution_count": 7,
   "id": "be8d8476-92fd-47a5-8268-2bffe455ecf9",
   "metadata": {},
   "outputs": [],
   "source": [
    "counter = 0\n",
    "for pair in pairs:\n",
    "    range1, range2 = [create_range(p) for p in pair]\n",
    "    if len(np.intersect1d(range1, range2)) > 0:\n",
    "        counter += 1\n"
   ]
  },
  {
   "cell_type": "code",
   "execution_count": 8,
   "id": "284154c3-39ee-4e3b-9fc4-b08f06ad3492",
   "metadata": {},
   "outputs": [
    {
     "data": {
      "text/plain": [
       "897"
      ]
     },
     "execution_count": 8,
     "metadata": {},
     "output_type": "execute_result"
    }
   ],
   "source": [
    "counter"
   ]
  }
 ],
 "metadata": {
  "kernelspec": {
   "display_name": "Python 3",
   "language": "python",
   "name": "python3"
  },
  "language_info": {
   "codemirror_mode": {
    "name": "ipython",
    "version": 3
   },
   "file_extension": ".py",
   "mimetype": "text/x-python",
   "name": "python",
   "nbconvert_exporter": "python",
   "pygments_lexer": "ipython3",
   "version": "3.8.8"
  }
 },
 "nbformat": 4,
 "nbformat_minor": 5
}
