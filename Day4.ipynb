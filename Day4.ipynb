{
 "cells": [
  {
   "cell_type": "code",
   "execution_count": 1,
   "id": "68d2ae9d-32d6-49c5-bb33-263b052287b9",
   "metadata": {},
   "outputs": [],
   "source": [
    "import numpy as np"
   ]
  },
  {
   "cell_type": "code",
   "execution_count": 2,
   "id": "9f13a28a-5857-4edc-8143-e4bb80262d17",
   "metadata": {},
   "outputs": [],
   "source": [
    "with open(\"data/day4a.txt\") as f:\n",
    "    ll = f.readlines()\n",
    "\n",
    "pairs = [l.strip().split(\",\") for l in ll]"
   ]
  },
  {
   "cell_type": "code",
   "execution_count": 3,
   "id": "67da56ff-fa01-471f-99bc-e1c72aefec85",
   "metadata": {},
   "outputs": [],
   "source": [
    "counter = 0\n",
    "for pair in pairs:\n",
    "    e1a, e1b = [int(p) for p in pair[0].split('-')]\n",
    "    range1 = np.arange(e1a, e1b+1)\n",
    "    e2a, e2b = [int(p) for p in pair[1].split('-')]\n",
    "    range2 = np.arange(e2a, e2b+1)\n",
    "    if set(range1).issubset(set(range2)) or set(range2).issubset(set(range1)):\n",
    "        counter += 1\n"
   ]
  },
  {
   "cell_type": "code",
   "execution_count": 4,
   "id": "5bd96113-5a17-467e-8560-156f1fc79d0c",
   "metadata": {},
   "outputs": [
    {
     "data": {
      "text/plain": [
       "507"
      ]
     },
     "execution_count": 4,
     "metadata": {},
     "output_type": "execute_result"
    }
   ],
   "source": [
    "counter"
   ]
  },
  {
   "cell_type": "markdown",
   "id": "f9a70797-6279-473d-a86f-05d111260d21",
   "metadata": {},
   "source": [
    "### Part 2"
   ]
  },
  {
   "cell_type": "code",
   "execution_count": 5,
   "id": "be8d8476-92fd-47a5-8268-2bffe455ecf9",
   "metadata": {},
   "outputs": [],
   "source": [
    "counter = 0\n",
    "for pair in pairs:\n",
    "    e1a, e1b = [int(p) for p in pair[0].split('-')]\n",
    "    range1 = np.arange(e1a, e1b+1)\n",
    "    e2a, e2b = [int(p) for p in pair[1].split('-')]\n",
    "    range2 = np.arange(e2a, e2b+1)\n",
    "    if len(np.intersect1d(range1, range2)) > 0:\n",
    "        counter += 1\n"
   ]
  },
  {
   "cell_type": "code",
   "execution_count": 6,
   "id": "284154c3-39ee-4e3b-9fc4-b08f06ad3492",
   "metadata": {},
   "outputs": [
    {
     "data": {
      "text/plain": [
       "897"
      ]
     },
     "execution_count": 6,
     "metadata": {},
     "output_type": "execute_result"
    }
   ],
   "source": [
    "counter"
   ]
  }
 ],
 "metadata": {
  "kernelspec": {
   "display_name": "Python 3",
   "language": "python",
   "name": "python3"
  },
  "language_info": {
   "codemirror_mode": {
    "name": "ipython",
    "version": 3
   },
   "file_extension": ".py",
   "mimetype": "text/x-python",
   "name": "python",
   "nbconvert_exporter": "python",
   "pygments_lexer": "ipython3",
   "version": "3.8.8"
  }
 },
 "nbformat": 4,
 "nbformat_minor": 5
}
