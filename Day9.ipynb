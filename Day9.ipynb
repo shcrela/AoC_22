{
 "cells": [
  {
   "cell_type": "code",
   "execution_count": 1,
   "id": "70eabe89-5726-41b3-a4c1-9a79dd20321d",
   "metadata": {},
   "outputs": [],
   "source": [
    "# load the data as `data` and lines as `lines` variable\n",
    "%run helper.py {9}"
   ]
  },
  {
   "cell_type": "markdown",
   "id": "fe5746b8-4376-4eb6-9493-9d1e9b5074bd",
   "metadata": {},
   "source": [
    "### Part1"
   ]
  },
  {
   "cell_type": "code",
   "execution_count": 2,
   "id": "b089c9eb-6076-46fb-bf8f-a9a541bf12b8",
   "metadata": {},
   "outputs": [],
   "source": [
    "def move_tail(hp, tp):\n",
    "    d = hp - tp\n",
    "    if np.abs(d) < 2:\n",
    "        return tp\n",
    "    else:\n",
    "        dh, dv = d.real, d.imag\n",
    "        m = complex(np.sign(dh), np.sign(dv))\n",
    "        return tp + m"
   ]
  },
  {
   "cell_type": "code",
   "execution_count": 3,
   "id": "4b75fd28-f2e0-472d-88a9-f0f16c96e3cb",
   "metadata": {},
   "outputs": [],
   "source": [
    "moves = []\n",
    "head_pos = [complex(0, 0)]\n",
    "tail_pos = [complex(0, 0)]\n",
    "for l in lines:\n",
    "    side, n = l.split()\n",
    "    n = int(n)\n",
    "    if side == \"L\":\n",
    "        m = complex(-1, 0)\n",
    "    elif side == \"R\":\n",
    "        m = complex(1, 0)\n",
    "    elif side == \"U\":\n",
    "        m = complex(0, 1)\n",
    "    elif side == \"D\":\n",
    "        m = complex(0, -1)\n",
    "    else:\n",
    "        print(\"WTF?\")\n",
    "    for step in range(n):  # move one step at a time\n",
    "        hp = head_pos[-1] + m\n",
    "        head_pos.append(hp)\n",
    "        tp = move_tail(hp, tail_pos[-1])\n",
    "        tail_pos.append(tp)"
   ]
  },
  {
   "cell_type": "code",
   "execution_count": 4,
   "id": "4bfa9570-227e-4595-8291-ec620d90dde6",
   "metadata": {},
   "outputs": [
    {
     "data": {
      "text/plain": [
       "6030"
      ]
     },
     "execution_count": 4,
     "metadata": {},
     "output_type": "execute_result"
    }
   ],
   "source": [
    "len(set(tail_pos))"
   ]
  },
  {
   "cell_type": "markdown",
   "id": "21afa186-12cf-48b6-9803-885a18afb267",
   "metadata": {},
   "source": [
    "### Part 2"
   ]
  },
  {
   "cell_type": "code",
   "execution_count": 5,
   "id": "59e1bff7-fc71-42d1-a517-cb859077be42",
   "metadata": {},
   "outputs": [],
   "source": [
    "%matplotlib tk\n",
    "import matplotlib.pyplot as plt\n",
    "from matplotlib.animation import FuncAnimation"
   ]
  },
  {
   "cell_type": "code",
   "execution_count": 6,
   "id": "26b96f42-fb23-4e75-809e-04b906a804fc",
   "metadata": {},
   "outputs": [],
   "source": [
    "moves = []\n",
    "knot_pos = dict()\n",
    "for knot in range(10):\n",
    "    knot_pos[knot] = [complex(0, 0)]\n",
    "\n",
    "for l in lines:\n",
    "    side, n = l.split()\n",
    "    n = int(n)\n",
    "    if side == \"L\":\n",
    "        m = complex(-1, 0)\n",
    "    elif side == \"R\":\n",
    "        m = complex(1, 0)\n",
    "    elif side == \"U\":\n",
    "        m = complex(0, 1)\n",
    "    elif side == \"D\":\n",
    "        m = complex(0, -1)\n",
    "    else:\n",
    "        print(\"WTF?\")\n",
    "    for step in range(n):  # move one step at a time\n",
    "        hp = knot_pos[0][-1] + m\n",
    "        knot_pos[0].append(hp)\n",
    "        for i in range(1, 10):\n",
    "            hp = knot_pos[i-1][-1]\n",
    "            tp = move_tail(hp, knot_pos[i][-1])\n",
    "            knot_pos[i].append(tp)\n",
    "\n",
    "positions_x = []\n",
    "positions_y = []\n",
    "for t in range(len(knot_pos[0])):\n",
    "    positions_x.append([knot_pos[i][t].real for i in range(10)])\n",
    "    positions_y.append([knot_pos[i][t].imag for i in range(10)])\n",
    "    "
   ]
  },
  {
   "cell_type": "code",
   "execution_count": 7,
   "id": "45532c61-69c2-42a0-b460-6267eb3d26b9",
   "metadata": {},
   "outputs": [],
   "source": [
    "# visualisation part:\n",
    "fig, ax = plt.subplots(figsize=(12, 6))\n",
    "\n",
    "pozicija, = ax.plot(positions_x[0], positions_y[0], marker=\"*\", ms=12)\n",
    "ax.set_xlim(np.min(positions_x), np.max(positions_x))\n",
    "ax.set_ylim(np.min(positions_y), np.max(positions_y))\n",
    "ax.axis(\"off\")\n",
    "n_positions = len(positions_x)\n",
    "\n",
    "def update(num, positions_x, positions_y, ax):\n",
    "    pozicija.set_data(positions_x[num], positions_y[num])\n",
    "    ax.set_title(f\"Position N° {num} / {n_positions}\")\n",
    "\n",
    "\n",
    "ani = FuncAnimation(fig, update, n_positions, fargs=[positions_x, positions_y, ax],\n",
    "                    interval=20, blit=False)\n",
    "\n",
    "ani.save(\"data/day9snake.gif\", dpi=50)"
   ]
  },
  {
   "cell_type": "markdown",
   "id": "7d62f097-62fd-4bf3-ba88-feab45c34b82",
   "metadata": {},
   "source": [
    "![snake](data/day9snake.gif)\n"
   ]
  },
  {
   "cell_type": "code",
   "execution_count": 8,
   "id": "687ba76b-d43f-4c03-a326-1d3ddf735fb8",
   "metadata": {},
   "outputs": [
    {
     "data": {
      "text/plain": [
       "2545"
      ]
     },
     "execution_count": 8,
     "metadata": {},
     "output_type": "execute_result"
    }
   ],
   "source": [
    "# The result of the part 2:\n",
    "len(set(knot_pos[9]))"
   ]
  }
 ],
 "metadata": {
  "kernelspec": {
   "display_name": "Python 3",
   "language": "python",
   "name": "python3"
  },
  "language_info": {
   "codemirror_mode": {
    "name": "ipython",
    "version": 3
   },
   "file_extension": ".py",
   "mimetype": "text/x-python",
   "name": "python",
   "nbconvert_exporter": "python",
   "pygments_lexer": "ipython3",
   "version": "3.8.8"
  }
 },
 "nbformat": 4,
 "nbformat_minor": 5
}
