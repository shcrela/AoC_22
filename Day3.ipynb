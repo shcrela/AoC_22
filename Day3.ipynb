{
 "cells": [
  {
   "cell_type": "code",
   "execution_count": 7,
   "id": "03bd468a-0068-4f10-b506-6ab4ab5156b2",
   "metadata": {},
   "outputs": [],
   "source": [
    "import numpy as np\n",
    "import string"
   ]
  },
  {
   "cell_type": "code",
   "execution_count": 12,
   "id": "8110ed85-7b9b-4614-b680-ff88f80c4a04",
   "metadata": {},
   "outputs": [],
   "source": [
    "priorities = dict()\n",
    "for i, lc in enumerate(string.ascii_lowercase):\n",
    "    priorities[lc] = i + 1\n",
    "for j, uc in enumerate(string.ascii_uppercase):\n",
    "    priorities[uc] = j + 27"
   ]
  },
  {
   "cell_type": "code",
   "execution_count": 26,
   "id": "b6c5360e-e2a1-435d-8b4c-202d9ea35c40",
   "metadata": {},
   "outputs": [],
   "source": [
    "with open(\"data/day3a.txt\") as f:\n",
    "    ll = f.readlines()"
   ]
  },
  {
   "cell_type": "code",
   "execution_count": 27,
   "id": "eda71b3a-ab2f-417d-b83d-c5d67ad5c364",
   "metadata": {},
   "outputs": [],
   "source": [
    "items = [l.strip() for l in ll]"
   ]
  },
  {
   "cell_type": "code",
   "execution_count": 28,
   "id": "02153e7f-f965-4e43-914b-f3445976d677",
   "metadata": {},
   "outputs": [],
   "source": [
    "pr_sum = []\n",
    "for k, it in enumerate(items):\n",
    "    pr = 0\n",
    "    n = len(it)\n",
    "    assert n%2 == 0, \"Odd number of items!!\"\n",
    "    in_both = set(it[:n//2]).intersection(set(it[n//2:]))\n",
    "    for el in in_both:\n",
    "        pr += priorities[el]\n",
    "    pr_sum.append(pr)"
   ]
  },
  {
   "cell_type": "code",
   "execution_count": 30,
   "id": "b0d692ef-797f-466f-b8cd-60282696afe3",
   "metadata": {},
   "outputs": [
    {
     "data": {
      "text/plain": [
       "8139"
      ]
     },
     "execution_count": 30,
     "metadata": {},
     "output_type": "execute_result"
    }
   ],
   "source": [
    "np.sum(pr_sum)"
   ]
  },
  {
   "cell_type": "markdown",
   "id": "f870abea-fd72-43d7-a3ca-8c2c4e41806f",
   "metadata": {},
   "source": [
    "### Part 2"
   ]
  },
  {
   "cell_type": "code",
   "execution_count": 45,
   "id": "7d219c6e-f01d-480a-8517-5970ce59cb58",
   "metadata": {},
   "outputs": [],
   "source": [
    "pr_sum = []\n",
    "group = []\n",
    "for k, it in enumerate(items):\n",
    "    group.append(set(it))\n",
    "    if k%3 == 2:  # last elf in the group\n",
    "        badge = group[0].intersection(group[1]).intersection(group[2])\n",
    "        assert len(badge) == 1, \"Multiple badges?!\"\n",
    "        pr_sum.append(priorities[badge.pop()])\n",
    "        group = []   "
   ]
  },
  {
   "cell_type": "code",
   "execution_count": 46,
   "id": "24ba2836-f85d-48e3-b25e-d380227c3bc9",
   "metadata": {},
   "outputs": [
    {
     "data": {
      "text/plain": [
       "2668"
      ]
     },
     "execution_count": 46,
     "metadata": {},
     "output_type": "execute_result"
    }
   ],
   "source": [
    "np.sum(pr_sum)"
   ]
  },
  {
   "cell_type": "code",
   "execution_count": null,
   "id": "cb67ca98-c54b-450a-aac8-72a5e5f50a2d",
   "metadata": {},
   "outputs": [],
   "source": []
  }
 ],
 "metadata": {
  "kernelspec": {
   "display_name": "Python 3",
   "language": "python",
   "name": "python3"
  },
  "language_info": {
   "codemirror_mode": {
    "name": "ipython",
    "version": 3
   },
   "file_extension": ".py",
   "mimetype": "text/x-python",
   "name": "python",
   "nbconvert_exporter": "python",
   "pygments_lexer": "ipython3",
   "version": "3.8.8"
  }
 },
 "nbformat": 4,
 "nbformat_minor": 5
}
