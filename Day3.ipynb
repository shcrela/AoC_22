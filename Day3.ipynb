{
 "cells": [
  {
   "cell_type": "code",
   "execution_count": 1,
   "id": "099671ee-3b9e-4d59-8dfa-337ef35b1a04",
   "metadata": {},
   "outputs": [],
   "source": [
    "# load the data as `data` variable\n",
    "%run helper.py {3}"
   ]
  },
  {
   "cell_type": "code",
   "execution_count": 2,
   "id": "eae5dc36-1df7-4123-ba83-57d5f50710b9",
   "metadata": {},
   "outputs": [],
   "source": [
    "import string\n",
    "\n",
    "\n",
    "priorities = dict()\n",
    "for i, lc in enumerate(string.ascii_lowercase):\n",
    "    priorities[lc] = i + 1\n",
    "for j, uc in enumerate(string.ascii_uppercase):\n",
    "    priorities[uc] = j + 27"
   ]
  },
  {
   "cell_type": "markdown",
   "id": "5ef16633-37c0-498e-9c58-90e6a7332ce2",
   "metadata": {},
   "source": [
    "### Part 1"
   ]
  },
  {
   "cell_type": "code",
   "execution_count": 3,
   "id": "02153e7f-f965-4e43-914b-f3445976d677",
   "metadata": {},
   "outputs": [],
   "source": [
    "pr_sum = []\n",
    "for k, it in enumerate(lines):\n",
    "    pr = 0\n",
    "    n = len(it)\n",
    "    assert n%2 == 0, f\"Odd number of items in line {k}!!\"\n",
    "    in_both = set(it[:n//2]).intersection(set(it[n//2:]))\n",
    "    for el in in_both:\n",
    "        pr += priorities[el]\n",
    "    pr_sum.append(pr)"
   ]
  },
  {
   "cell_type": "code",
   "execution_count": 4,
   "id": "b0d692ef-797f-466f-b8cd-60282696afe3",
   "metadata": {},
   "outputs": [
    {
     "data": {
      "text/plain": [
       "8139"
      ]
     },
     "execution_count": 4,
     "metadata": {},
     "output_type": "execute_result"
    }
   ],
   "source": [
    "np.sum(pr_sum)"
   ]
  },
  {
   "cell_type": "markdown",
   "id": "f870abea-fd72-43d7-a3ca-8c2c4e41806f",
   "metadata": {},
   "source": [
    "### Part 2"
   ]
  },
  {
   "cell_type": "code",
   "execution_count": 5,
   "id": "7d219c6e-f01d-480a-8517-5970ce59cb58",
   "metadata": {},
   "outputs": [],
   "source": [
    "pr_sum = []\n",
    "group = []\n",
    "for k, it in enumerate(lines):\n",
    "    group.append(set(it))\n",
    "    if k%3 == 2:  # last elf in the group\n",
    "        badge = group[0].intersection(group[1]).intersection(group[2])\n",
    "        assert len(badge) == 1, \"Multiple badges?!\"\n",
    "        pr_sum.append(priorities[badge.pop()])\n",
    "        group = []   "
   ]
  },
  {
   "cell_type": "code",
   "execution_count": 6,
   "id": "24ba2836-f85d-48e3-b25e-d380227c3bc9",
   "metadata": {},
   "outputs": [
    {
     "data": {
      "text/plain": [
       "2668"
      ]
     },
     "execution_count": 6,
     "metadata": {},
     "output_type": "execute_result"
    }
   ],
   "source": [
    "np.sum(pr_sum)"
   ]
  }
 ],
 "metadata": {
  "kernelspec": {
   "display_name": "Python 3",
   "language": "python",
   "name": "python3"
  },
  "language_info": {
   "codemirror_mode": {
    "name": "ipython",
    "version": 3
   },
   "file_extension": ".py",
   "mimetype": "text/x-python",
   "name": "python",
   "nbconvert_exporter": "python",
   "pygments_lexer": "ipython3",
   "version": "3.8.8"
  }
 },
 "nbformat": 4,
 "nbformat_minor": 5
}
