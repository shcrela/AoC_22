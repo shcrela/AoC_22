{
 "cells": [
  {
   "cell_type": "code",
   "execution_count": 2,
   "id": "bcea300d-613f-4d0a-b35b-2aee00a6f20f",
   "metadata": {},
   "outputs": [],
   "source": [
    "import numpy as np"
   ]
  },
  {
   "cell_type": "markdown",
   "id": "6af26254-5ecd-4960-9f87-fb04f6993d5b",
   "metadata": {},
   "source": [
    "### Part 1"
   ]
  },
  {
   "cell_type": "code",
   "execution_count": 12,
   "id": "935fd441-93e4-4487-87d6-8739c690ae3a",
   "metadata": {},
   "outputs": [],
   "source": [
    "with open(\"day1a.txt\") as f:\n",
    "    l = f.readlines()"
   ]
  },
  {
   "cell_type": "code",
   "execution_count": 32,
   "id": "679131a7-3e1b-4a56-b48d-dd84a20db0cc",
   "metadata": {},
   "outputs": [],
   "source": [
    "elfovi = dict()\n",
    "i = 0\n",
    "elfovi[i] = []\n",
    "for ll in l:\n",
    "    b = ll.strip()\n",
    "    if b == \"\":\n",
    "        i += 1\n",
    "        elfovi[i] = []\n",
    "    else:\n",
    "        elfovi[i].append(int(b))"
   ]
  },
  {
   "cell_type": "code",
   "execution_count": 21,
   "id": "7b583852-c5ad-4a58-ae6f-a5bfe5c64424",
   "metadata": {},
   "outputs": [],
   "source": [
    "kalorije = dict()\n",
    "for k, v in elfovi.items():\n",
    "    kalorije[k] = np.sum(v)"
   ]
  },
  {
   "cell_type": "code",
   "execution_count": 29,
   "id": "bd8d8dd7-a6c2-4270-9b6e-8a4af31566ae",
   "metadata": {},
   "outputs": [],
   "source": [
    "packed_elf = max(kalorije, key=kalorije.get)"
   ]
  },
  {
   "cell_type": "code",
   "execution_count": 31,
   "id": "8e835e2c-08e5-4404-965e-77c32cc70523",
   "metadata": {},
   "outputs": [
    {
     "name": "stdout",
     "output_type": "stream",
     "text": [
      "The Elf 159 is carrying [11418, 7701, 11495, 11885, 10029, 11641, 11332] totalling 75501 calories\n"
     ]
    }
   ],
   "source": [
    "print(f\"The Elf {packed_elf} is carrying {elfovi[packed_elf]} totalling {kalorije[packed_elf]} calories\")"
   ]
  },
  {
   "cell_type": "markdown",
   "id": "b743d575-b122-40ac-8904-fd1548a145d9",
   "metadata": {},
   "source": [
    "###  Part 2"
   ]
  },
  {
   "cell_type": "code",
   "execution_count": 46,
   "id": "c4c4e27b-0f64-424b-a6cc-4f3b1fe6d2cb",
   "metadata": {},
   "outputs": [],
   "source": [
    "most_packed = np.partition(list(kalorije.values()), -3)[-3:]"
   ]
  },
  {
   "cell_type": "code",
   "execution_count": 48,
   "id": "92134224-af0b-41dc-97c4-56b8cbd8a6a4",
   "metadata": {},
   "outputs": [
    {
     "name": "stdout",
     "output_type": "stream",
     "text": [
      "The most packed Elves are carrying [69997 70096 75501], or together 215594 calories.\n"
     ]
    }
   ],
   "source": [
    "print(f\"The most packed Elves are carrying {most_packed}, or together {np.sum(most_packed)} calories.\")"
   ]
  },
  {
   "cell_type": "code",
   "execution_count": null,
   "id": "803f4ef2-6a42-427d-8651-e0d5f1234f6e",
   "metadata": {},
   "outputs": [],
   "source": []
  }
 ],
 "metadata": {
  "kernelspec": {
   "display_name": "Python 3",
   "language": "python",
   "name": "python3"
  },
  "language_info": {
   "codemirror_mode": {
    "name": "ipython",
    "version": 3
   },
   "file_extension": ".py",
   "mimetype": "text/x-python",
   "name": "python",
   "nbconvert_exporter": "python",
   "pygments_lexer": "ipython3",
   "version": "3.8.8"
  }
 },
 "nbformat": 4,
 "nbformat_minor": 5
}
