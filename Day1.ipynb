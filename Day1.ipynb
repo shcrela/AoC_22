{
 "cells": [
  {
   "cell_type": "code",
   "execution_count": 1,
   "id": "33c86676-9637-432e-920c-00056fd49cef",
   "metadata": {},
   "outputs": [],
   "source": [
    "# load the data as `data` variable\n",
    "%run helper.py {1}"
   ]
  },
  {
   "cell_type": "code",
   "execution_count": 2,
   "id": "ad4cb4d7-f0de-41be-9d06-fd83300c0340",
   "metadata": {},
   "outputs": [],
   "source": [
    "elfovi = dict()\n",
    "i = 0\n",
    "elfovi[i] = []\n",
    "for b in lines:\n",
    "    if b == \"\":\n",
    "        i += 1\n",
    "        elfovi[i] = []\n",
    "    else:\n",
    "        elfovi[i].append(int(b))\n",
    "\n",
    "kalorije = dict()\n",
    "for k, v in elfovi.items():\n",
    "    kalorije[k] = np.sum(v)"
   ]
  },
  {
   "cell_type": "markdown",
   "id": "6af26254-5ecd-4960-9f87-fb04f6993d5b",
   "metadata": {},
   "source": [
    "### Part 1"
   ]
  },
  {
   "cell_type": "code",
   "execution_count": 3,
   "id": "5a473593-4fef-42f3-93d1-ec4d74944148",
   "metadata": {},
   "outputs": [
    {
     "name": "stdout",
     "output_type": "stream",
     "text": [
      "The Elf 159 is carrying [11418, 7701, 11495, 11885, 10029, 11641, 11332] totalling 75501 calories\n"
     ]
    }
   ],
   "source": [
    "packed_elf = max(kalorije, key=kalorije.get)\n",
    "\n",
    "print(f\"The Elf {packed_elf} is carrying {elfovi[packed_elf]} totalling {kalorije[packed_elf]} calories\")"
   ]
  },
  {
   "cell_type": "markdown",
   "id": "b743d575-b122-40ac-8904-fd1548a145d9",
   "metadata": {},
   "source": [
    "###  Part 2"
   ]
  },
  {
   "cell_type": "code",
   "execution_count": 4,
   "id": "c8affe94-3b61-4073-a0ac-7594f09dbaa6",
   "metadata": {},
   "outputs": [
    {
     "name": "stdout",
     "output_type": "stream",
     "text": [
      "The most packed Elves are carrying [69997 70096 75501], or together 215594 calories.\n"
     ]
    }
   ],
   "source": [
    "most_packed = np.partition(list(kalorije.values()), -3)[-3:]\n",
    "\n",
    "print(f\"The most packed Elves are carrying {most_packed}, or together {np.sum(most_packed)} calories.\")"
   ]
  }
 ],
 "metadata": {
  "kernelspec": {
   "display_name": "Python 3",
   "language": "python",
   "name": "python3"
  },
  "language_info": {
   "codemirror_mode": {
    "name": "ipython",
    "version": 3
   },
   "file_extension": ".py",
   "mimetype": "text/x-python",
   "name": "python",
   "nbconvert_exporter": "python",
   "pygments_lexer": "ipython3",
   "version": "3.8.8"
  }
 },
 "nbformat": 4,
 "nbformat_minor": 5
}
