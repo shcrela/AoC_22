{
 "cells": [
  {
   "cell_type": "code",
   "execution_count": 1,
   "id": "f698f25b-fffe-4438-838f-5d86793e9d50",
   "metadata": {},
   "outputs": [],
   "source": [
    "# load the data as `data` and lines as `lines` variable\n",
    "%run helper.py {8}"
   ]
  },
  {
   "cell_type": "markdown",
   "id": "bb63a5df-7b27-490d-85ba-63047276bd5d",
   "metadata": {
    "tags": []
   },
   "source": [
    "import numpy as np\n",
    "\n",
    "data = \"\"\"30373\n",
    "25512\n",
    "65332\n",
    "33549\n",
    "35390\"\"\"\n",
    "\n",
    "lines = data.split(\"\\n\")"
   ]
  },
  {
   "cell_type": "code",
   "execution_count": 2,
   "id": "7c714be0-ef51-4f53-a4a1-35261e28a037",
   "metadata": {},
   "outputs": [],
   "source": [
    "marr = np.zeros((len(lines), len(lines[0])), dtype=\"uint8\")\n",
    "for i, line in enumerate(lines):\n",
    "    for j, n in enumerate(line):\n",
    "        marr[i, j] = n"
   ]
  },
  {
   "cell_type": "code",
   "execution_count": 3,
   "id": "b70d7bee-ab32-430d-8b53-26228d0c420f",
   "metadata": {},
   "outputs": [
    {
     "data": {
      "image/png": "[encoded data removed]",
      "text/plain": [
       "<Figure size 288x288 with 1 Axes>"
      ]
     },
     "metadata": {
      "needs_background": "light"
     },
     "output_type": "display_data"
    }
   ],
   "source": [
    "from matplotlib import pyplot as plt\n",
    "\n",
    "plt.matshow(marr);"
   ]
  },
  {
   "cell_type": "markdown",
   "id": "9006b98b-e7d6-46a9-ad5d-346b9151c89f",
   "metadata": {},
   "source": [
    "### Part 1"
   ]
  },
  {
   "cell_type": "code",
   "execution_count": 4,
   "id": "725b67ac-1edc-43b9-981b-cc7fb79c8730",
   "metadata": {},
   "outputs": [],
   "source": [
    "def is_visible(tree_position, marr=marr):\n",
    "    r_max, c_max = marr.shape\n",
    "    i, j = tree_position\n",
    "    tree = marr[i, j]\n",
    "    \n",
    "    def on_border(i=i, j=j, r_max=r_max, c_max=c_max):\n",
    "        return (i in [0, r_max-1]) or (j in [0, c_max-1])\n",
    "    def v_left(t=tree, m=marr, i=i, j=j):\n",
    "        return np.all(m[i, :j] < t)\n",
    "    def v_right(t=tree, m=marr, i=i, j=j):\n",
    "        return np.all(m[i, j+1:] < t)\n",
    "    def v_up(t=tree, m=marr, i=i, j=j):\n",
    "        return np.all(m[:i, j] < t)\n",
    "    def v_down(t=tree, m=marr, i=i, j=j):\n",
    "        return np.all(m[i+1:, j] < t)\n",
    "    \n",
    "    if on_border():\n",
    "        return True, \"border\"\n",
    "    elif v_left():\n",
    "        return True, \"left\"\n",
    "    elif v_right():\n",
    "        return True, \"right\"\n",
    "    elif v_up():\n",
    "        return True, \"up\"\n",
    "    elif v_down():\n",
    "        return True, \"down\"\n",
    "    else:\n",
    "        return False, \"not visible\""
   ]
  },
  {
   "cell_type": "code",
   "execution_count": 5,
   "id": "ab0e6b3c-e85a-4b56-a9ef-53f75e1308ac",
   "metadata": {},
   "outputs": [],
   "source": [
    "trees = dict()\n",
    "n_visibles = 0\n",
    "it = 0\n",
    "for pos in np.ndindex(marr.shape):\n",
    "    it += 1\n",
    "    vis, d = is_visible(pos)\n",
    "    if vis:\n",
    "        n_visibles += 1\n",
    "    trees[pos] = {\"tree_height\": marr[pos], \"visible\":vis, \"direction\":d}\n",
    "    "
   ]
  },
  {
   "cell_type": "code",
   "execution_count": 6,
   "id": "9fa8146b-f407-4ad8-8c7c-ee9319472624",
   "metadata": {},
   "outputs": [
    {
     "data": {
      "text/plain": [
       "1676"
      ]
     },
     "execution_count": 6,
     "metadata": {},
     "output_type": "execute_result"
    }
   ],
   "source": [
    "n_visibles"
   ]
  },
  {
   "cell_type": "code",
   "execution_count": 37,
   "id": "cc8994d6-80e7-4589-afe4-3dbc4b9315d2",
   "metadata": {},
   "outputs": [
    {
     "data": {
      "text/plain": [
       "{(1, 1): {'tree_height': 5, 'visible': True, 'direction': 'left'},\n",
       " (1, 2): {'tree_height': 5, 'visible': True, 'direction': 'right'},\n",
       " (1, 3): {'tree_height': 1, 'visible': False, 'direction': 'not visible'},\n",
       " (2, 1): {'tree_height': 5, 'visible': True, 'direction': 'right'},\n",
       " (2, 2): {'tree_height': 3, 'visible': False, 'direction': 'not visible'},\n",
       " (2, 3): {'tree_height': 3, 'visible': True, 'direction': 'right'},\n",
       " (3, 1): {'tree_height': 3, 'visible': False, 'direction': 'not visible'},\n",
       " (3, 2): {'tree_height': 5, 'visible': True, 'direction': 'left'},\n",
       " (3, 3): {'tree_height': 4, 'visible': False, 'direction': 'not visible'}}"
      ]
     },
     "execution_count": 37,
     "metadata": {},
     "output_type": "execute_result"
    }
   ],
   "source": [
    "{k:v for k, v in trees.items() if v[\"direction\"] != \"border\"}"
   ]
  },
  {
   "cell_type": "markdown",
   "id": "0d855c84-ecf1-4c2f-943e-ffc74d16387f",
   "metadata": {},
   "source": [
    "<pre>\n",
    "30373\n",
    "25512\n",
    "65332\n",
    "33549\n",
    "35390\n",
    "</pre>"
   ]
  },
  {
   "cell_type": "markdown",
   "id": "1f49aa80-ea5c-492b-be63-d42550acde59",
   "metadata": {},
   "source": [
    "### Part 2"
   ]
  },
  {
   "cell_type": "code",
   "execution_count": 3,
   "id": "26c8aae4-77a5-44e0-a628-1464c144d483",
   "metadata": {},
   "outputs": [],
   "source": [
    "def visible_scenery(tree_position, marr=marr):\n",
    "    r_max, c_max = marr.shape\n",
    "    i, j = tree_position\n",
    "    tree = marr[i, j]\n",
    "    \n",
    "    def closest_tree(t, cc):\n",
    "        if np.prod(cc < t):\n",
    "            return len(cc)\n",
    "        else:\n",
    "            return np.argmax(cc >= t) + 1\n",
    "    \n",
    "    def on_border(i=i, j=j, r_max=r_max, c_max=c_max):\n",
    "        if (i in [0, r_max-1]) or (j in [0, c_max-1]):\n",
    "            return 0\n",
    "        else:\n",
    "            return 1\n",
    "\n",
    "    def v_left(t=tree, m=marr, i=i, j=j):\n",
    "        cc = m[i, :j][::-1]\n",
    "        return closest_tree(t, cc)\n",
    "\n",
    "    def v_right(t=tree, m=marr, i=i, j=j):\n",
    "        cc = m[i, j+1:]\n",
    "        return closest_tree(t, cc)\n",
    "\n",
    "    def v_up(t=tree, m=marr, i=i, j=j):\n",
    "        cc = m[:i, j][::-1]\n",
    "        return closest_tree(t, cc)\n",
    "\n",
    "    def v_down(t=tree, m=marr, i=i, j=j):\n",
    "        cc = m[i+1:, j]\n",
    "        return closest_tree(t, cc)\n",
    "\n",
    "    return [on_border(), v_left(), v_right(),  v_up(), v_down()]"
   ]
  },
  {
   "cell_type": "code",
   "execution_count": 4,
   "id": "aecc2b41-bdbf-4363-9cc7-4e12b9b45f5c",
   "metadata": {},
   "outputs": [],
   "source": [
    "sceneries = dict()\n",
    "scenic_score = []\n",
    "it = 0\n",
    "for pos in np.ndindex(marr.shape):\n",
    "    it += 1\n",
    "    scenery = visible_scenery(pos)\n",
    "    scenic_score.append(np.prod(scenery))\n",
    "    sceneries[pos] = {\"tree_height\": marr[pos], \"scenery\": scenery}"
   ]
  },
  {
   "cell_type": "code",
   "execution_count": 5,
   "id": "4856ac79-3e01-413e-aacb-4d55af429c4d",
   "metadata": {},
   "outputs": [
    {
     "data": {
      "text/plain": [
       "313200"
      ]
     },
     "execution_count": 5,
     "metadata": {},
     "output_type": "execute_result"
    }
   ],
   "source": [
    "np.max(scenic_score)"
   ]
  },
  {
   "cell_type": "code",
   "execution_count": 42,
   "id": "941d9e1e-b32b-4a4e-bd26-6ab4e868651e",
   "metadata": {},
   "outputs": [
    {
     "data": {
      "text/plain": [
       "{(1, 1): {'tree_height': 5, 'scenery': [1, 1, 1, 1, 1]},\n",
       " (1, 2): {'tree_height': 5, 'scenery': [1, 1, 2, 1, 2]},\n",
       " (1, 3): {'tree_height': 1, 'scenery': [1, 1, 1, 1, 1]},\n",
       " (2, 1): {'tree_height': 5, 'scenery': [1, 1, 3, 1, 2]},\n",
       " (2, 2): {'tree_height': 3, 'scenery': [1, 1, 1, 1, 1]},\n",
       " (2, 3): {'tree_height': 3, 'scenery': [1, 1, 1, 2, 1]},\n",
       " (3, 1): {'tree_height': 3, 'scenery': [1, 1, 1, 1, 1]},\n",
       " (3, 2): {'tree_height': 5, 'scenery': [1, 2, 2, 2, 1]},\n",
       " (3, 3): {'tree_height': 4, 'scenery': [1, 1, 1, 3, 1]}}"
      ]
     },
     "execution_count": 42,
     "metadata": {},
     "output_type": "execute_result"
    }
   ],
   "source": [
    "{k: v for k, v in sceneries.items() if v[\"scenery\"][0] > 0}"
   ]
  }
 ],
 "metadata": {
  "kernelspec": {
   "display_name": "Python 3",
   "language": "python",
   "name": "python3"
  },
  "language_info": {
   "codemirror_mode": {
    "name": "ipython",
    "version": 3
   },
   "file_extension": ".py",
   "mimetype": "text/x-python",
   "name": "python",
   "nbconvert_exporter": "python",
   "pygments_lexer": "ipython3",
   "version": "3.8.8"
  }
 },
 "nbformat": 4,
 "nbformat_minor": 5
}
