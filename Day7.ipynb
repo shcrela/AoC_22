{
 "cells": [
  {
   "cell_type": "code",
   "execution_count": 2,
   "id": "b98b5657-6caa-45c7-9ec6-6d35f31051c1",
   "metadata": {},
   "outputs": [],
   "source": [
    "# load the data as `data` and lines as `lines` variable\n",
    "%run helper.py {7}"
   ]
  },
  {
   "cell_type": "code",
   "execution_count": 3,
   "id": "3357dd88-a8d4-4ad7-9aad-1de6705717c4",
   "metadata": {},
   "outputs": [
    {
     "data": {
      "text/plain": [
       "\"Please don't repeatedly request this endpoint before it unlocks! The calendar countdown is synchronized with the server time; the link will be enabled on the calendar the instant this puzzle becomes available.\""
      ]
     },
     "execution_count": 3,
     "metadata": {},
     "output_type": "execute_result"
    }
   ],
   "source": [
    "data"
   ]
  }
 ],
 "metadata": {
  "kernelspec": {
   "display_name": "Python 3",
   "language": "python",
   "name": "python3"
  },
  "language_info": {
   "codemirror_mode": {
    "name": "ipython",
    "version": 3
   },
   "file_extension": ".py",
   "mimetype": "text/x-python",
   "name": "python",
   "nbconvert_exporter": "python",
   "pygments_lexer": "ipython3",
   "version": "3.8.8"
  }
 },
 "nbformat": 4,
 "nbformat_minor": 5
}
