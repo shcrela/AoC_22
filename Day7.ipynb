{
 "cells": [
  {
   "cell_type": "code",
   "execution_count": 1,
   "id": "b98b5657-6caa-45c7-9ec6-6d35f31051c1",
   "metadata": {},
   "outputs": [],
   "source": [
    "# load the data as `data` and lines as `lines` variable\n",
    "%run helper.py {7}"
   ]
  },
  {
   "cell_type": "code",
   "execution_count": 2,
   "id": "9f0db5bc-00aa-47a5-aa4e-7d7610b7e577",
   "metadata": {},
   "outputs": [],
   "source": [
    "def create_path(line, current_dir):\n",
    "    if line.startswith(\"$ cd \"):\n",
    "        fn = l[5:]\n",
    "        if fn != \"..\":  # move forward\n",
    "            if not fn.startswith(\"/\"):  # if the path is relative\n",
    "                wd = current_dir + fn + \"/\"  # add the `fn` to the absolute path\n",
    "            else:  # if the path is absolute (never happens)\n",
    "                wd = fn\n",
    "        else: # move back along the absolute path\n",
    "            wd = \"/\".join(current_dir.split(\"/\")[:-2]) + \"/\"\n",
    "    else:  # no changing of directory occurs\n",
    "        wd = current_dir\n",
    "    return wd"
   ]
  },
  {
   "cell_type": "code",
   "execution_count": 3,
   "id": "562e31e9-7b54-416c-8824-38a635b85945",
   "metadata": {
    "tags": []
   },
   "outputs": [],
   "source": [
    "# create a folder structure:\n",
    "folder_contents = dict()\n",
    "wd = \"/\"\n",
    "for l in lines:\n",
    "    wd = create_path(l, wd)\n",
    "    if wd not in folder_contents.keys():\n",
    "        folder_contents[wd] = []\n",
    "    if l.startswith(\"$ ls\"):\n",
    "        next\n",
    "    if l[0] != \"$\":  # add contents\n",
    "        s, f = l.split()\n",
    "        folder_contents[wd].append((s, f))        "
   ]
  },
  {
   "cell_type": "code",
   "execution_count": 4,
   "id": "91b60a74-ffb3-4ae7-b217-240c28236f63",
   "metadata": {},
   "outputs": [],
   "source": [
    "# let's count all the files:\n",
    "folder_size = dict()\n",
    "for fn in folder_contents.keys():\n",
    "    folder_size[fn] = 0\n",
    "\n",
    "def propagate_upwards(current_folder, filesize, folder_size=folder_size):\n",
    "    \"\"\"when the file is found, add it's size to all of the folders, upwards\n",
    "    along the absolute path\"\"\"\n",
    "    cf = \"\"\n",
    "    for t in current_folder.split(\"/\")[:-1]:\n",
    "        cf += t + \"/\"\n",
    "        folder_size[cf] += filesize\n",
    "    return folder_size\n",
    "\n",
    "for folder, content in folder_contents.items():\n",
    "    for s, f in content:\n",
    "        if s.isdigit():  # it's a file!\n",
    "            folder_size = propagate_upwards(folder, int(s))        "
   ]
  },
  {
   "cell_type": "code",
   "execution_count": 5,
   "id": "2da97e8f-6b38-46da-805b-4ce1f39472c9",
   "metadata": {},
   "outputs": [
    {
     "data": {
      "text/plain": [
       "1297683"
      ]
     },
     "execution_count": 5,
     "metadata": {},
     "output_type": "execute_result"
    }
   ],
   "source": [
    "# Part 1:\n",
    "np.sum([v for v in folder_size.values() if v < 100000])"
   ]
  },
  {
   "cell_type": "code",
   "execution_count": 6,
   "id": "8429a1b1-a57d-4bc9-9bcb-92b4697147d1",
   "metadata": {},
   "outputs": [
    {
     "data": {
      "text/plain": [
       "5756764"
      ]
     },
     "execution_count": 6,
     "metadata": {},
     "output_type": "execute_result"
    }
   ],
   "source": [
    "# Part 2\n",
    "need2liberate = 30000000 - (70000000 - folder_size[\"/\"])\n",
    "np.min([v for v in folder_size.values() if v > need2liberate])"
   ]
  }
 ],
 "metadata": {
  "kernelspec": {
   "display_name": "Python 3",
   "language": "python",
   "name": "python3"
  },
  "language_info": {
   "codemirror_mode": {
    "name": "ipython",
    "version": 3
   },
   "file_extension": ".py",
   "mimetype": "text/x-python",
   "name": "python",
   "nbconvert_exporter": "python",
   "pygments_lexer": "ipython3",
   "version": "3.8.8"
  }
 },
 "nbformat": 4,
 "nbformat_minor": 5
}
