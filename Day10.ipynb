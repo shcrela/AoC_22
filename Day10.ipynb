{
 "cells": [
  {
   "cell_type": "code",
   "execution_count": 1,
   "id": "4671dae3-bb6a-4a3c-a6b6-ca03b5e5eace",
   "metadata": {},
   "outputs": [],
   "source": [
    "# load the data as `data` and lines as `lines` variable\n",
    "%run helper.py {10}"
   ]
  },
  {
   "cell_type": "code",
   "execution_count": 67,
   "id": "98867133-b441-4685-abfb-8a8ef708e5a2",
   "metadata": {
    "jupyter": {
     "source_hidden": true
    },
    "tags": []
   },
   "outputs": [],
   "source": [
    "data = \"\"\"addx 15\n",
    "addx -11\n",
    "addx 6\n",
    "addx -3\n",
    "addx 5\n",
    "addx -1\n",
    "addx -8\n",
    "addx 13\n",
    "addx 4\n",
    "noop\n",
    "addx -1\n",
    "addx 5\n",
    "addx -1\n",
    "addx 5\n",
    "addx -1\n",
    "addx 5\n",
    "addx -1\n",
    "addx 5\n",
    "addx -1\n",
    "addx -35\n",
    "addx 1\n",
    "addx 24\n",
    "addx -19\n",
    "addx 1\n",
    "addx 16\n",
    "addx -11\n",
    "noop\n",
    "noop\n",
    "addx 21\n",
    "addx -15\n",
    "noop\n",
    "noop\n",
    "addx -3\n",
    "addx 9\n",
    "addx 1\n",
    "addx -3\n",
    "addx 8\n",
    "addx 1\n",
    "addx 5\n",
    "noop\n",
    "noop\n",
    "noop\n",
    "noop\n",
    "noop\n",
    "addx -36\n",
    "noop\n",
    "addx 1\n",
    "addx 7\n",
    "noop\n",
    "noop\n",
    "noop\n",
    "addx 2\n",
    "addx 6\n",
    "noop\n",
    "noop\n",
    "noop\n",
    "noop\n",
    "noop\n",
    "addx 1\n",
    "noop\n",
    "noop\n",
    "addx 7\n",
    "addx 1\n",
    "noop\n",
    "addx -13\n",
    "addx 13\n",
    "addx 7\n",
    "noop\n",
    "addx 1\n",
    "addx -33\n",
    "noop\n",
    "noop\n",
    "noop\n",
    "addx 2\n",
    "noop\n",
    "noop\n",
    "noop\n",
    "addx 8\n",
    "noop\n",
    "addx -1\n",
    "addx 2\n",
    "addx 1\n",
    "noop\n",
    "addx 17\n",
    "addx -9\n",
    "addx 1\n",
    "addx 1\n",
    "addx -3\n",
    "addx 11\n",
    "noop\n",
    "noop\n",
    "addx 1\n",
    "noop\n",
    "addx 1\n",
    "noop\n",
    "noop\n",
    "addx -13\n",
    "addx -19\n",
    "addx 1\n",
    "addx 3\n",
    "addx 26\n",
    "addx -30\n",
    "addx 12\n",
    "addx -1\n",
    "addx 3\n",
    "addx 1\n",
    "noop\n",
    "noop\n",
    "noop\n",
    "addx -9\n",
    "addx 18\n",
    "addx 1\n",
    "addx 2\n",
    "noop\n",
    "noop\n",
    "addx 9\n",
    "noop\n",
    "noop\n",
    "noop\n",
    "addx -1\n",
    "addx 2\n",
    "addx -37\n",
    "addx 1\n",
    "addx 3\n",
    "noop\n",
    "addx 15\n",
    "addx -21\n",
    "addx 22\n",
    "addx -6\n",
    "addx 1\n",
    "noop\n",
    "addx 2\n",
    "addx 1\n",
    "noop\n",
    "addx -10\n",
    "noop\n",
    "noop\n",
    "addx 20\n",
    "addx 1\n",
    "addx 2\n",
    "addx 2\n",
    "addx -6\n",
    "addx -11\n",
    "noop\n",
    "noop\n",
    "noop\"\"\"\n",
    "\n",
    "\n",
    "lines = [l.strip() for l in data.split(\"\\n\")]"
   ]
  },
  {
   "cell_type": "code",
   "execution_count": 2,
   "id": "8c52bfff-5ab4-482c-b12c-097d960ac42a",
   "metadata": {},
   "outputs": [],
   "source": [
    "i=0\n",
    "x_vals = []\n",
    "X = 1\n",
    "\n",
    "def get_vals(x_vals=x_vals):\n",
    "    six_signals = []\n",
    "    for i in [19 + i*40 for i in range(6)]:\n",
    "        six_signals.append(x_vals[i]*(i+1))\n",
    "    return six_signals\n",
    "    \n",
    "    \n",
    "\n",
    "for l in lines + [\"noop\"]:\n",
    "    # print(X)\n",
    "    x_vals.append(X)\n",
    "    if l == \"noop\":\n",
    "        pass\n",
    "    if l.startswith(\"addx\"):\n",
    "        _, v = l.split()\n",
    "        x_vals.append(X)\n",
    "        X += int(v)"
   ]
  },
  {
   "cell_type": "code",
   "execution_count": 3,
   "id": "0d0b22a1-1103-4d7d-adf6-7111f49fade0",
   "metadata": {},
   "outputs": [
    {
     "data": {
      "text/plain": [
       "14540"
      ]
     },
     "execution_count": 3,
     "metadata": {},
     "output_type": "execute_result"
    }
   ],
   "source": [
    "np.sum(get_vals())"
   ]
  },
  {
   "cell_type": "code",
   "execution_count": 5,
   "id": "8844dd7b-bc24-404a-903a-4146ce1d4377",
   "metadata": {},
   "outputs": [],
   "source": [
    "crt_shape = (6, 40)\n",
    "\n",
    "crt = np.zeros(np.prod(crt_shape), dtype=\"uint8\")\n",
    "\n",
    "for i, sp in enumerate(x_vals[:-1]):\n",
    "    sprite_pos = [sp-1, sp, sp+1]\n",
    "    if i%40 in sprite_pos:\n",
    "        crt[i] = 255"
   ]
  },
  {
   "cell_type": "code",
   "execution_count": 6,
   "id": "0c0fb9c9-9fa2-4779-8ad2-ca5997a8b323",
   "metadata": {},
   "outputs": [
    {
     "data": {
      "text/plain": [
       "(0.0, 40.0, 6.0, 0.0)"
      ]
     },
     "execution_count": 6,
     "metadata": {},
     "output_type": "execute_result"
    },
    {
     "data": {
      "image/png": "[encoded data removed]",
      "text/plain": [
       "<Figure size 1296x216 with 1 Axes>"
      ]
     },
     "metadata": {
      "needs_background": "light"
     },
     "output_type": "display_data"
    }
   ],
   "source": [
    "import matplotlib.pyplot as plt\n",
    "\n",
    "plt.figure(figsize=(18, 3))\n",
    "plt.pcolormesh(crt.reshape(crt_shape), edgecolors=\"g\")\n",
    "ax = plt.gca()\n",
    "ax.invert_yaxis()\n",
    "plt.axis(\"off\")"
   ]
  },
  {
   "cell_type": "code",
   "execution_count": null,
   "id": "c5117359-1467-4e5b-b0dd-b90f352b460a",
   "metadata": {},
   "outputs": [],
   "source": []
  }
 ],
 "metadata": {
  "kernelspec": {
   "display_name": "Python 3",
   "language": "python",
   "name": "python3"
  },
  "language_info": {
   "codemirror_mode": {
    "name": "ipython",
    "version": 3
   },
   "file_extension": ".py",
   "mimetype": "text/x-python",
   "name": "python",
   "nbconvert_exporter": "python",
   "pygments_lexer": "ipython3",
   "version": "3.8.8"
  }
 },
 "nbformat": 4,
 "nbformat_minor": 5
}
