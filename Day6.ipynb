{
 "cells": [
  {
   "cell_type": "code",
   "execution_count": 7,
   "id": "87b8c208-d1ee-4cdf-b88b-d6b910a18da7",
   "metadata": {},
   "outputs": [],
   "source": [
    "with open(\"data/day6.txt\") as f:\n",
    "    ll = f.read()"
   ]
  },
  {
   "cell_type": "markdown",
   "id": "d71da7d1-1c71-47e3-838a-676731673826",
   "metadata": {},
   "source": [
    "### Part 1"
   ]
  },
  {
   "cell_type": "code",
   "execution_count": 13,
   "id": "2f177bfc-0a55-4d3d-a05a-57cb6b1521b2",
   "metadata": {},
   "outputs": [],
   "source": []
  },
  {
   "cell_type": "code",
   "execution_count": 15,
   "id": "f1cb75fe-49d4-4670-b0bd-19615e03417c",
   "metadata": {},
   "outputs": [
    {
     "data": {
      "text/plain": [
       "1238"
      ]
     },
     "execution_count": 15,
     "metadata": {},
     "output_type": "execute_result"
    }
   ],
   "source": [
    "first_signal(ll, 4)"
   ]
  },
  {
   "cell_type": "code",
   "execution_count": 9,
   "id": "8247e464-c0b3-4377-921d-c8234eca10ae",
   "metadata": {},
   "outputs": [
    {
     "name": "stdout",
     "output_type": "stream",
     "text": [
      "1238\n"
     ]
    }
   ],
   "source": [
    "n=4\n",
    "for i in range(n, len(ll)):\n",
    "    chunk = ll[i-n:i]\n",
    "    if len(set(chunk)) == len(chunk):\n",
    "        print(i)\n",
    "        break"
   ]
  },
  {
   "cell_type": "markdown",
   "id": "874d2dd0-9adf-4938-84af-7d0f70a98665",
   "metadata": {},
   "source": [
    "### Part 2"
   ]
  },
  {
   "cell_type": "code",
   "execution_count": 10,
   "id": "da8f6746-4b95-4477-82ec-35d528378766",
   "metadata": {},
   "outputs": [
    {
     "name": "stdout",
     "output_type": "stream",
     "text": [
      "3037\n"
     ]
    }
   ],
   "source": [
    "n = 14\n",
    "for i in range(n, len(ll)):\n",
    "    chunk = ll[i-n:i]\n",
    "    if len(set(chunk)) == len(chunk):\n",
    "        print(i)\n",
    "        break"
   ]
  },
  {
   "cell_type": "code",
   "execution_count": null,
   "id": "26bde315-c2f9-4f4f-b397-94ca22a70370",
   "metadata": {},
   "outputs": [],
   "source": []
  }
 ],
 "metadata": {
  "kernelspec": {
   "display_name": "Python 3",
   "language": "python",
   "name": "python3"
  },
  "language_info": {
   "codemirror_mode": {
    "name": "ipython",
    "version": 3
   },
   "file_extension": ".py",
   "mimetype": "text/x-python",
   "name": "python",
   "nbconvert_exporter": "python",
   "pygments_lexer": "ipython3",
   "version": "3.8.8"
  }
 },
 "nbformat": 4,
 "nbformat_minor": 5
}
