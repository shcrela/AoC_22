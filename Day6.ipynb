{
 "cells": [
  {
   "cell_type": "code",
   "execution_count": 1,
   "id": "16a208ad-9cb3-4dcd-8ace-f04f7bb46b58",
   "metadata": {},
   "outputs": [],
   "source": [
    "# load the data\n",
    "%run helper.py {6}"
   ]
  },
  {
   "cell_type": "code",
   "execution_count": 2,
   "id": "568980bf-7e5b-45ed-9c28-dcf1a8f87679",
   "metadata": {},
   "outputs": [],
   "source": [
    "def first_signal(n, data=data):\n",
    "    for i in range(n, len(data)):\n",
    "        chunk = data[i-n:i]\n",
    "        if len(set(chunk)) == len(chunk):\n",
    "            return i"
   ]
  },
  {
   "cell_type": "markdown",
   "id": "d71da7d1-1c71-47e3-838a-676731673826",
   "metadata": {},
   "source": [
    "### Part 1"
   ]
  },
  {
   "cell_type": "code",
   "execution_count": 3,
   "id": "f1cb75fe-49d4-4670-b0bd-19615e03417c",
   "metadata": {},
   "outputs": [
    {
     "data": {
      "text/plain": [
       "1238"
      ]
     },
     "execution_count": 3,
     "metadata": {},
     "output_type": "execute_result"
    }
   ],
   "source": [
    "first_signal(4)"
   ]
  },
  {
   "cell_type": "markdown",
   "id": "874d2dd0-9adf-4938-84af-7d0f70a98665",
   "metadata": {},
   "source": [
    "### Part 2"
   ]
  },
  {
   "cell_type": "code",
   "execution_count": 4,
   "id": "da8f6746-4b95-4477-82ec-35d528378766",
   "metadata": {},
   "outputs": [
    {
     "data": {
      "text/plain": [
       "3037"
      ]
     },
     "execution_count": 4,
     "metadata": {},
     "output_type": "execute_result"
    }
   ],
   "source": [
    "first_signal(14)"
   ]
  }
 ],
 "metadata": {
  "kernelspec": {
   "display_name": "Python 3",
   "language": "python",
   "name": "python3"
  },
  "language_info": {
   "codemirror_mode": {
    "name": "ipython",
    "version": 3
   },
   "file_extension": ".py",
   "mimetype": "text/x-python",
   "name": "python",
   "nbconvert_exporter": "python",
   "pygments_lexer": "ipython3",
   "version": "3.8.8"
  }
 },
 "nbformat": 4,
 "nbformat_minor": 5
}
