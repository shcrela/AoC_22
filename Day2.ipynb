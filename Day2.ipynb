{
 "cells": [
  {
   "cell_type": "code",
   "execution_count": 1,
   "id": "21f9fe40-a533-4d01-8f9a-ebe4e63e7dad",
   "metadata": {},
   "outputs": [],
   "source": [
    "# load the data as `data` variable\n",
    "%run helper.py {2}"
   ]
  },
  {
   "cell_type": "code",
   "execution_count": 2,
   "id": "d7544f42-d6cf-4d77-b536-adaadd1138ea",
   "metadata": {},
   "outputs": [],
   "source": [
    "rps = [ll.split() for ll in lines]"
   ]
  },
  {
   "cell_type": "markdown",
   "id": "4e4ccc32-2374-42df-9d19-29f02e6a3839",
   "metadata": {},
   "source": [
    "### Part 1"
   ]
  },
  {
   "cell_type": "code",
   "execution_count": 3,
   "id": "b97bc510-abdf-4127-808b-a86803b1752b",
   "metadata": {
    "tags": []
   },
   "outputs": [],
   "source": [
    "scoring = dict()\n",
    "scoring[\"A\"] = scoring[\"X\"] = 1  # rock\n",
    "scoring[\"B\"] = scoring[\"Y\"] = 2  # paper\n",
    "scoring[\"C\"] = scoring[\"Z\"] = 3  # scissors\n"
   ]
  },
  {
   "cell_type": "markdown",
   "id": "500a32b1-e491-4db3-ac65-f0295fc68d49",
   "metadata": {},
   "source": [
    "Difference in score may be one of [0, 1, -1, 2, -2].  \n",
    "Draw if 0; you win if it's 1 or -2."
   ]
  },
  {
   "cell_type": "code",
   "execution_count": 4,
   "id": "dcfd4a3b-cb86-437b-97d0-862a536be511",
   "metadata": {},
   "outputs": [],
   "source": [
    "my_scores = []\n",
    "for hand in rps:\n",
    "    elfs_hand, my_hand = hand\n",
    "    score = scoring[my_hand]\n",
    "    if scoring[my_hand] - scoring[elfs_hand] in [1, -2]:  # you won\n",
    "        score += 6\n",
    "    elif scoring[my_hand] - scoring[elfs_hand] == 0:  # draw\n",
    "        score += 3\n",
    "    else:\n",
    "        score += 0\n",
    "    my_scores.append(score)\n",
    "        "
   ]
  },
  {
   "cell_type": "code",
   "execution_count": 5,
   "id": "4bc7c9c3-c31c-4315-9999-8d0558ba22ee",
   "metadata": {},
   "outputs": [
    {
     "name": "stdout",
     "output_type": "stream",
     "text": [
      "My total score in the game would be 17189\n"
     ]
    }
   ],
   "source": [
    "print(f\"My total score in the game would be {np.sum(my_scores)}\")"
   ]
  },
  {
   "cell_type": "markdown",
   "id": "9ac2660a-defc-417e-bc43-76660d9d1474",
   "metadata": {},
   "source": [
    "### Part 2"
   ]
  },
  {
   "cell_type": "code",
   "execution_count": 6,
   "id": "1002ff2c-a756-4aab-b073-876f2cd474af",
   "metadata": {},
   "outputs": [],
   "source": [
    "scoring = dict()\n",
    "scoring[\"A\"] = 1  # rock\n",
    "scoring[\"B\"] = 2  # paper\n",
    "scoring[\"C\"] = 3  # scissors\n",
    "scoring[\"X\"] = 0  # you loose\n",
    "scoring[\"Y\"] = 3  # draw\n",
    "scoring[\"Z\"] = 6  # you win"
   ]
  },
  {
   "cell_type": "code",
   "execution_count": 7,
   "id": "188c24c1-e6a5-49cf-93df-da0f3fc6e81f",
   "metadata": {},
   "outputs": [],
   "source": [
    "my_scores = []\n",
    "possible = [\"A\", \"B\", \"C\"]  # Rock, Paper, Scissors\n",
    "for hand in rps:\n",
    "    elfs_hand, result = hand\n",
    "    elf_i = possible.index(elfs_hand)\n",
    "    score = scoring[result]\n",
    "    if result == \"X\":  # you loose\n",
    "        my_i = elf_i - 1\n",
    "    elif result == \"Y\":  # draw\n",
    "        my_i = elf_i\n",
    "    else:  # you win\n",
    "        my_i = elf_i + 1\n",
    "    my_hand = possible[my_i%3]\n",
    "    # print(\"you have to choose \", my_hand, \" and that adds \", scoring[my_hand], \" points\")\n",
    "    score += scoring[my_hand]\n",
    "    my_scores.append(score)\n",
    "        "
   ]
  },
  {
   "cell_type": "code",
   "execution_count": 8,
   "id": "d9c0dffa-e899-41e4-93a0-56eb7cc97b1a",
   "metadata": {},
   "outputs": [
    {
     "data": {
      "text/plain": [
       "13490"
      ]
     },
     "execution_count": 8,
     "metadata": {},
     "output_type": "execute_result"
    }
   ],
   "source": [
    "np.sum(my_scores)"
   ]
  }
 ],
 "metadata": {
  "kernelspec": {
   "display_name": "Python 3",
   "language": "python",
   "name": "python3"
  },
  "language_info": {
   "codemirror_mode": {
    "name": "ipython",
    "version": 3
   },
   "file_extension": ".py",
   "mimetype": "text/x-python",
   "name": "python",
   "nbconvert_exporter": "python",
   "pygments_lexer": "ipython3",
   "version": "3.8.8"
  }
 },
 "nbformat": 4,
 "nbformat_minor": 5
}
