{
 "cells": [
  {
   "cell_type": "markdown",
   "id": "62fa900a-a309-42bd-8c08-9a36ad61d394",
   "metadata": {},
   "source": [
    "<pre>\n",
    "[B]                     [N]     [H]\n",
    "[V]         [P] [T]     [V]     [P]\n",
    "[W]     [C] [T] [S]     [H]     [N]\n",
    "[T]     [J] [Z] [M] [N] [F]     [L]\n",
    "[Q]     [W] [N] [J] [T] [Q] [R] [B]\n",
    "[N] [B] [Q] [R] [V] [F] [D] [F] [M]\n",
    "[H] [W] [S] [J] [P] [W] [L] [P] [S]\n",
    "[D] [D] [T] [F] [G] [B] [B] [H] [Z]\n",
    " 1   2   3   4   5   6   7   8   9 \n",
    "</pre>\n",
    " "
   ]
  },
  {
   "cell_type": "code",
   "execution_count": 1,
   "id": "3223aa8e-5c83-42d2-9744-3664859cd913",
   "metadata": {},
   "outputs": [],
   "source": [
    "from collections import deque\n",
    "import re"
   ]
  },
  {
   "cell_type": "code",
   "execution_count": 2,
   "id": "dea03c71-59b1-4f2a-b637-975da9c90b59",
   "metadata": {},
   "outputs": [],
   "source": [
    "pos = dict()\n",
    "for i in range(1, 10):\n",
    "    pos[i] = deque()\n",
    "\n",
    "\n",
    "with open(\"data/day5.txt\") as f:\n",
    "    l = f.readline()\n",
    "    l = l.strip()\n",
    "    while l.startswith(\"[\"):\n",
    "        for i, c in enumerate(l[1::4]):\n",
    "            j = i+1\n",
    "            if c != ' ':\n",
    "                pos[j].append(c)\n",
    "        l = f.readline()"
   ]
  },
  {
   "cell_type": "markdown",
   "id": "7ecd0602-edf5-4035-96e3-be0f4c8b6254",
   "metadata": {},
   "source": [
    "### Part 1"
   ]
  },
  {
   "cell_type": "code",
   "execution_count": 3,
   "id": "56db1918-19d6-4b9a-9b06-adb94d1b8086",
   "metadata": {
    "tags": []
   },
   "outputs": [],
   "source": [
    "def move(n, s, d, pos=pos):\n",
    "    for i in range(n):\n",
    "        c = pos[s].popleft()\n",
    "        pos[d].appendleft(c)\n",
    "\n",
    "\n",
    "with open(\"data/day5.txt\") as f:\n",
    "    l = f.readline()\n",
    "    l = l.strip()\n",
    "    while l:\n",
    "        if l.startswith(\"move\"):\n",
    "            rule = []\n",
    "            for char in l.split():\n",
    "                if char.isdigit():\n",
    "                    rule.append(int(char))\n",
    "            move(*rule)    \n",
    "        l = f.readline()"
   ]
  },
  {
   "cell_type": "code",
   "execution_count": 4,
   "id": "b803cf9a-1e0f-4532-a6d9-f87b33f3f916",
   "metadata": {},
   "outputs": [
    {
     "name": "stdout",
     "output_type": "stream",
     "text": [
      "PSNRGBTFT\n"
     ]
    }
   ],
   "source": [
    "rezultat = \"\"\n",
    "for p in pos.values():\n",
    "    rezultat += p[0]\n",
    "print(rezultat)"
   ]
  },
  {
   "cell_type": "markdown",
   "id": "0f68c2a3-cd94-4145-b9f4-a42bcf0c4c68",
   "metadata": {},
   "source": [
    "### Part 2"
   ]
  },
  {
   "cell_type": "code",
   "execution_count": 6,
   "id": "b0a8a48c-ed68-4f05-b2e3-6a7b5b99c7bd",
   "metadata": {},
   "outputs": [
    {
     "ename": "TypeError",
     "evalue": "sequence index must be integer, not 'slice'",
     "output_type": "error",
     "traceback": [
      "\u001b[0;31m---------------------------------------------------------------------------\u001b[0m",
      "\u001b[0;31mTypeError\u001b[0m                                 Traceback (most recent call last)",
      "\u001b[0;32m<ipython-input-6-f410de74857b>\u001b[0m in \u001b[0;36m<module>\u001b[0;34m\u001b[0m\n\u001b[1;32m     14\u001b[0m                 \u001b[0;32mif\u001b[0m \u001b[0mchar\u001b[0m\u001b[0;34m.\u001b[0m\u001b[0misdigit\u001b[0m\u001b[0;34m(\u001b[0m\u001b[0;34m)\u001b[0m\u001b[0;34m:\u001b[0m\u001b[0;34m\u001b[0m\u001b[0;34m\u001b[0m\u001b[0m\n\u001b[1;32m     15\u001b[0m                     \u001b[0mrule\u001b[0m\u001b[0;34m.\u001b[0m\u001b[0mappend\u001b[0m\u001b[0;34m(\u001b[0m\u001b[0mint\u001b[0m\u001b[0;34m(\u001b[0m\u001b[0mchar\u001b[0m\u001b[0;34m)\u001b[0m\u001b[0;34m)\u001b[0m\u001b[0;34m\u001b[0m\u001b[0;34m\u001b[0m\u001b[0m\n\u001b[0;32m---> 16\u001b[0;31m             \u001b[0mmove\u001b[0m\u001b[0;34m(\u001b[0m\u001b[0;34m*\u001b[0m\u001b[0mrule\u001b[0m\u001b[0;34m)\u001b[0m\u001b[0;34m\u001b[0m\u001b[0;34m\u001b[0m\u001b[0m\n\u001b[0m\u001b[1;32m     17\u001b[0m         \u001b[0ml\u001b[0m \u001b[0;34m=\u001b[0m \u001b[0mf\u001b[0m\u001b[0;34m.\u001b[0m\u001b[0mreadline\u001b[0m\u001b[0;34m(\u001b[0m\u001b[0;34m)\u001b[0m\u001b[0;34m\u001b[0m\u001b[0;34m\u001b[0m\u001b[0m\n",
      "\u001b[0;32m<ipython-input-6-f410de74857b>\u001b[0m in \u001b[0;36mmove\u001b[0;34m(n, s, d, pos)\u001b[0m\n\u001b[1;32m      1\u001b[0m \u001b[0;32mdef\u001b[0m \u001b[0mmove\u001b[0m\u001b[0;34m(\u001b[0m\u001b[0mn\u001b[0m\u001b[0;34m,\u001b[0m \u001b[0ms\u001b[0m\u001b[0;34m,\u001b[0m \u001b[0md\u001b[0m\u001b[0;34m,\u001b[0m \u001b[0mpos\u001b[0m\u001b[0;34m=\u001b[0m\u001b[0mpos\u001b[0m\u001b[0;34m)\u001b[0m\u001b[0;34m:\u001b[0m\u001b[0;34m\u001b[0m\u001b[0;34m\u001b[0m\u001b[0m\n\u001b[0;32m----> 2\u001b[0;31m         \u001b[0mc\u001b[0m \u001b[0;34m=\u001b[0m \u001b[0mpos\u001b[0m\u001b[0;34m[\u001b[0m\u001b[0ms\u001b[0m\u001b[0;34m]\u001b[0m\u001b[0;34m[\u001b[0m\u001b[0;34m:\u001b[0m\u001b[0mn\u001b[0m\u001b[0;34m]\u001b[0m\u001b[0;34m\u001b[0m\u001b[0;34m\u001b[0m\u001b[0m\n\u001b[0m\u001b[1;32m      3\u001b[0m         \u001b[0mpos\u001b[0m\u001b[0;34m[\u001b[0m\u001b[0ms\u001b[0m\u001b[0;34m]\u001b[0m \u001b[0;34m=\u001b[0m \u001b[0mpos\u001b[0m\u001b[0;34m[\u001b[0m\u001b[0ms\u001b[0m\u001b[0;34m]\u001b[0m\u001b[0;34m[\u001b[0m\u001b[0mn\u001b[0m\u001b[0;34m:\u001b[0m\u001b[0;34m]\u001b[0m\u001b[0;34m\u001b[0m\u001b[0;34m\u001b[0m\u001b[0m\n\u001b[1;32m      4\u001b[0m         \u001b[0mpos\u001b[0m\u001b[0;34m[\u001b[0m\u001b[0md\u001b[0m\u001b[0;34m]\u001b[0m\u001b[0;34m.\u001b[0m\u001b[0mappendleft\u001b[0m\u001b[0;34m(\u001b[0m\u001b[0mc\u001b[0m\u001b[0;34m)\u001b[0m\u001b[0;34m\u001b[0m\u001b[0;34m\u001b[0m\u001b[0m\n\u001b[1;32m      5\u001b[0m \u001b[0;34m\u001b[0m\u001b[0m\n",
      "\u001b[0;31mTypeError\u001b[0m: sequence index must be integer, not 'slice'"
     ]
    }
   ],
   "source": [
    "def move(n, s, d, pos=pos):\n",
    "        c = pos[s][:n]\n",
    "        pos[s] = pos[s][n:]\n",
    "        pos[d].appendleft(c)\n",
    "\n",
    "\n",
    "with open(\"data/day5.txt\") as f:\n",
    "    l = f.readline()\n",
    "    l = l.strip()\n",
    "    while l:\n",
    "        if l.startswith(\"move\"):\n",
    "            rule = []\n",
    "            for char in l.split():\n",
    "                if char.isdigit():\n",
    "                    rule.append(int(char))\n",
    "            move(*rule)    \n",
    "        l = f.readline()"
   ]
  },
  {
   "cell_type": "code",
   "execution_count": 7,
   "id": "8283ac62-5a8c-4bac-827f-0df4e004d14e",
   "metadata": {},
   "outputs": [],
   "source": [
    "de = deque(range(5))"
   ]
  },
  {
   "cell_type": "code",
   "execution_count": 9,
   "id": "bf38e89a-63c8-465b-85a2-af6ff5aa90e3",
   "metadata": {},
   "outputs": [
    {
     "data": {
      "text/plain": [
       "3"
      ]
     },
     "execution_count": 9,
     "metadata": {},
     "output_type": "execute_result"
    }
   ],
   "source": [
    "de[3]"
   ]
  },
  {
   "cell_type": "code",
   "execution_count": null,
   "id": "60ca9fad-5a2e-413a-ae23-4ef592501592",
   "metadata": {},
   "outputs": [],
   "source": []
  }
 ],
 "metadata": {
  "kernelspec": {
   "display_name": "Python 3",
   "language": "python",
   "name": "python3"
  },
  "language_info": {
   "codemirror_mode": {
    "name": "ipython",
    "version": 3
   },
   "file_extension": ".py",
   "mimetype": "text/x-python",
   "name": "python",
   "nbconvert_exporter": "python",
   "pygments_lexer": "ipython3",
   "version": "3.8.8"
  }
 },
 "nbformat": 4,
 "nbformat_minor": 5
}
