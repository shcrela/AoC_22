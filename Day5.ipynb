{
 "cells": [
  {
   "cell_type": "markdown",
   "id": "62fa900a-a309-42bd-8c08-9a36ad61d394",
   "metadata": {},
   "source": [
    "<pre>\n",
    "[B]                     [N]     [H]\n",
    "[V]         [P] [T]     [V]     [P]\n",
    "[W]     [C] [T] [S]     [H]     [N]\n",
    "[T]     [J] [Z] [M] [N] [F]     [L]\n",
    "[Q]     [W] [N] [J] [T] [Q] [R] [B]\n",
    "[N] [B] [Q] [R] [V] [F] [D] [F] [M]\n",
    "[H] [W] [S] [J] [P] [W] [L] [P] [S]\n",
    "[D] [D] [T] [F] [G] [B] [B] [H] [Z]\n",
    " 1   2   3   4   5   6   7   8   9 \n",
    "</pre>\n",
    " "
   ]
  },
  {
   "cell_type": "code",
   "execution_count": 1,
   "id": "66d0b08f-8bf6-4fe4-aaf7-2790a67f6c04",
   "metadata": {},
   "outputs": [],
   "source": [
    "def starting_pos(filename):\n",
    "    pos = dict()\n",
    "    for i in range(1, 10):\n",
    "        pos[i] = list()\n",
    "    with open(filename) as f:\n",
    "        l = f.readline()\n",
    "        while l.startswith(\"[\"):\n",
    "            for i, c in enumerate(l[1::4]):\n",
    "                j = i + 1\n",
    "                if c != ' ':\n",
    "                    pos[j].append(c)\n",
    "            l = f.readline()\n",
    "    for k, v in pos.items():\n",
    "        pos[k] = v[::-1]\n",
    "    return pos\n",
    "            "
   ]
  },
  {
   "cell_type": "code",
   "execution_count": 2,
   "id": "ec8f7706-2662-45ba-a58d-6820df81b17b",
   "metadata": {},
   "outputs": [
    {
     "data": {
      "text/plain": [
       "{1: ['D', 'H', 'N', 'Q', 'T', 'W', 'V', 'B'],\n",
       " 2: ['D', 'W', 'B'],\n",
       " 3: ['T', 'S', 'Q', 'W', 'J', 'C'],\n",
       " 4: ['F', 'J', 'R', 'N', 'Z', 'T', 'P'],\n",
       " 5: ['G', 'P', 'V', 'J', 'M', 'S', 'T'],\n",
       " 6: ['B', 'W', 'F', 'T', 'N'],\n",
       " 7: ['B', 'L', 'D', 'Q', 'F', 'H', 'V', 'N'],\n",
       " 8: ['H', 'P', 'F', 'R'],\n",
       " 9: ['Z', 'S', 'M', 'B', 'L', 'N', 'P', 'H']}"
      ]
     },
     "execution_count": 2,
     "metadata": {},
     "output_type": "execute_result"
    }
   ],
   "source": [
    "starting_pos(\"data/day5.txt\")"
   ]
  },
  {
   "cell_type": "markdown",
   "id": "7ecd0602-edf5-4035-96e3-be0f4c8b6254",
   "metadata": {},
   "source": [
    "### Part 1"
   ]
  },
  {
   "cell_type": "code",
   "execution_count": 3,
   "id": "fc8e137c-2964-46dd-9198-864eecf4a936",
   "metadata": {
    "tags": []
   },
   "outputs": [],
   "source": [
    "def nums_from_line(line):\n",
    "    nsd = []\n",
    "    for char in line.split():\n",
    "        if char.isdigit():\n",
    "            nsd.append(int(char))\n",
    "    return nsd\n",
    "    \n",
    "def move1(line, pos):\n",
    "    '''move crates one by one, according to the rule:\n",
    "            \"move n from s to d\"\n",
    "    '''\n",
    "    n, s, d = nums_from_line(line)\n",
    "    for i in range(n):\n",
    "        c = pos[s].pop()\n",
    "        pos[d].append(c)\n",
    "    return pos\n",
    "\n",
    "def rearange_crates(filename, moving_rule):\n",
    "    '''From the starting position, move the crates according to the rules, line by line'''\n",
    "    pos = starting_pos(filename)\n",
    "    with open(filename) as f:\n",
    "        l = f.readline()\n",
    "        while l:\n",
    "            if l.startswith(\"move\"):\n",
    "                pos = moving_rule(l, pos)\n",
    "                # print(l, pos)\n",
    "            l = f.readline()\n",
    "    rezultat = \"\"\n",
    "    for p in pos.values():\n",
    "        rezultat += p[-1]\n",
    "    return rezultat"
   ]
  },
  {
   "cell_type": "code",
   "execution_count": 4,
   "id": "0638e9bb-75b3-4932-b91c-6a8559bc3f38",
   "metadata": {
    "tags": []
   },
   "outputs": [
    {
     "data": {
      "text/plain": [
       "'PSNRGBTFT'"
      ]
     },
     "execution_count": 4,
     "metadata": {},
     "output_type": "execute_result"
    }
   ],
   "source": [
    "rearange_crates(\"data/day5.txt\", move1)"
   ]
  },
  {
   "cell_type": "markdown",
   "id": "0f68c2a3-cd94-4145-b9f4-a42bcf0c4c68",
   "metadata": {},
   "source": [
    "### Part 2"
   ]
  },
  {
   "cell_type": "code",
   "execution_count": 5,
   "id": "8097c87f-ba72-4263-96a0-b9170669ddcd",
   "metadata": {
    "tags": []
   },
   "outputs": [
    {
     "data": {
      "text/plain": [
       "'DPTFPRHFW'"
      ]
     },
     "execution_count": 5,
     "metadata": {},
     "output_type": "execute_result"
    }
   ],
   "source": [
    "def move2(line, pos):\n",
    "    '''move crates n at a time'''\n",
    "    n, s, d = nums_from_line(line)\n",
    "    c = pos[s][n:]\n",
    "    pos[s] = pos[s][:n]\n",
    "    pos[d] += c\n",
    "    return pos\n",
    "\n",
    "rearange_crates(\"data/day5.txt\", move2)"
   ]
  },
  {
   "cell_type": "code",
   "execution_count": null,
   "id": "aba61ba2-0800-4151-b82a-1bf1873f0691",
   "metadata": {},
   "outputs": [],
   "source": []
  }
 ],
 "metadata": {
  "kernelspec": {
   "display_name": "Python 3",
   "language": "python",
   "name": "python3"
  },
  "language_info": {
   "codemirror_mode": {
    "name": "ipython",
    "version": 3
   },
   "file_extension": ".py",
   "mimetype": "text/x-python",
   "name": "python",
   "nbconvert_exporter": "python",
   "pygments_lexer": "ipython3",
   "version": "3.8.8"
  }
 },
 "nbformat": 4,
 "nbformat_minor": 5
}
